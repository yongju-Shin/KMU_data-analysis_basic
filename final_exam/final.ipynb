{
 "cells": [
  {
   "cell_type": "code",
   "execution_count": 127,
   "metadata": {},
   "outputs": [
    {
     "data": {
      "text/html": [
       "<div>\n",
       "<style scoped>\n",
       "    .dataframe tbody tr th:only-of-type {\n",
       "        vertical-align: middle;\n",
       "    }\n",
       "\n",
       "    .dataframe tbody tr th {\n",
       "        vertical-align: top;\n",
       "    }\n",
       "\n",
       "    .dataframe thead th {\n",
       "        text-align: right;\n",
       "    }\n",
       "</style>\n",
       "<table border=\"1\" class=\"dataframe\">\n",
       "  <thead>\n",
       "    <tr style=\"text-align: right;\">\n",
       "      <th></th>\n",
       "      <th>업소명</th>\n",
       "      <th>소재지</th>\n",
       "      <th>소재지전화번호</th>\n",
       "      <th>데이터기준일자</th>\n",
       "    </tr>\n",
       "    <tr>\n",
       "      <th>업종명</th>\n",
       "      <th></th>\n",
       "      <th></th>\n",
       "      <th></th>\n",
       "      <th></th>\n",
       "    </tr>\n",
       "  </thead>\n",
       "  <tbody>\n",
       "    <tr>\n",
       "      <th>제과점영업</th>\n",
       "      <td>인천당</td>\n",
       "      <td>인천광역시 중구 인현동 23</td>\n",
       "      <td>032-766-0287</td>\n",
       "      <td>2020-09-15</td>\n",
       "    </tr>\n",
       "    <tr>\n",
       "      <th>제과점영업</th>\n",
       "      <td>파리바게트 연안부두점</td>\n",
       "      <td>인천광역시 중구 축항대로86번길 38 (항동7가, 58-3번지 라이프상가 1층 10...</td>\n",
       "      <td>032-885-2448</td>\n",
       "      <td>2020-09-15</td>\n",
       "    </tr>\n",
       "    <tr>\n",
       "      <th>제과점영업</th>\n",
       "      <td>도미노피자 동인천역점</td>\n",
       "      <td>인천광역시 중구 참외전로 188 (율목동, 1층)</td>\n",
       "      <td>032-761-3094</td>\n",
       "      <td>2020-09-15</td>\n",
       "    </tr>\n",
       "    <tr>\n",
       "      <th>제과점영업</th>\n",
       "      <td>신포과자점</td>\n",
       "      <td>인천광역시 중구 우현로 45 (신포동, 9)</td>\n",
       "      <td>032-761-0229</td>\n",
       "      <td>2020-09-15</td>\n",
       "    </tr>\n",
       "    <tr>\n",
       "      <th>제과점영업</th>\n",
       "      <td>배스킨라빈스</td>\n",
       "      <td>인천광역시 중구 우현로87번길 2 (인현동)</td>\n",
       "      <td>032-764-2888</td>\n",
       "      <td>2020-09-15</td>\n",
       "    </tr>\n",
       "  </tbody>\n",
       "</table>\n",
       "</div>"
      ],
      "text/plain": [
       "               업소명                                                소재지  \\\n",
       "업종명                                                                     \n",
       "제과점영업          인천당                                   인천광역시 중구 인현동 23    \n",
       "제과점영업  파리바게트 연안부두점  인천광역시 중구 축항대로86번길 38 (항동7가, 58-3번지 라이프상가 1층 10...   \n",
       "제과점영업  도미노피자 동인천역점                        인천광역시 중구 참외전로 188 (율목동, 1층)   \n",
       "제과점영업        신포과자점                           인천광역시 중구 우현로 45 (신포동, 9)   \n",
       "제과점영업       배스킨라빈스                           인천광역시 중구 우현로87번길 2 (인현동)   \n",
       "\n",
       "            소재지전화번호     데이터기준일자  \n",
       "업종명                              \n",
       "제과점영업  032-766-0287  2020-09-15  \n",
       "제과점영업  032-885-2448  2020-09-15  \n",
       "제과점영업  032-761-3094  2020-09-15  \n",
       "제과점영업  032-761-0229  2020-09-15  \n",
       "제과점영업  032-764-2888  2020-09-15  "
      ]
     },
     "execution_count": 127,
     "metadata": {},
     "output_type": "execute_result"
    }
   ],
   "source": [
    "import pandas as pd\n",
    "\n",
    "BB = pd.read_csv('bread.csv', encoding='CP949', index_col=0, header=0, engine='python')\n",
    "\n",
    "BB.head()"
   ]
  },
  {
   "cell_type": "code",
   "execution_count": 128,
   "metadata": {},
   "outputs": [
    {
     "name": "stdout",
     "output_type": "stream",
     "text": [
      "Requirement already satisfied: folium in c:\\users\\user\\anaconda3\\lib\\site-packages (0.12.1)\n",
      "Requirement already satisfied: branca>=0.3.0 in c:\\users\\user\\anaconda3\\lib\\site-packages (from folium) (0.4.2)\n",
      "Requirement already satisfied: jinja2>=2.9 in c:\\users\\user\\anaconda3\\lib\\site-packages (from folium) (2.11.2)\n",
      "Requirement already satisfied: numpy in c:\\users\\user\\anaconda3\\lib\\site-packages (from folium) (1.19.2)\n",
      "Requirement already satisfied: requests in c:\\users\\user\\anaconda3\\lib\\site-packages (from folium) (2.24.0)\n",
      "Requirement already satisfied: MarkupSafe>=0.23 in c:\\users\\user\\anaconda3\\lib\\site-packages (from jinja2>=2.9->folium) (1.1.1)\n",
      "Requirement already satisfied: urllib3!=1.25.0,!=1.25.1,<1.26,>=1.21.1 in c:\\users\\user\\anaconda3\\lib\\site-packages (from requests->folium) (1.25.11)\n",
      "Requirement already satisfied: certifi>=2017.4.17 in c:\\users\\user\\anaconda3\\lib\\site-packages (from requests->folium) (2020.6.20)\n",
      "Requirement already satisfied: chardet<4,>=3.0.2 in c:\\users\\user\\anaconda3\\lib\\site-packages (from requests->folium) (3.0.4)\n",
      "Requirement already satisfied: idna<3,>=2.5 in c:\\users\\user\\anaconda3\\lib\\site-packages (from requests->folium) (2.10)\n"
     ]
    }
   ],
   "source": [
    "!pip install folium"
   ]
  },
  {
   "cell_type": "code",
   "execution_count": 129,
   "metadata": {},
   "outputs": [],
   "source": [
    "import folium"
   ]
  },
  {
   "cell_type": "code",
   "execution_count": 130,
   "metadata": {},
   "outputs": [],
   "source": [
    "map_osm = folium.Map(location=[37.644371403288744, 127.12762413810384], zoom_start = 30)"
   ]
  },
  {
   "cell_type": "code",
   "execution_count": 132,
   "metadata": {},
   "outputs": [],
   "source": [
    "map_osm.save('map1.html')"
   ]
  },
  {
   "cell_type": "code",
   "execution_count": 133,
   "metadata": {},
   "outputs": [
    {
     "data": {
      "text/html": [
       "<div>\n",
       "<style scoped>\n",
       "    .dataframe tbody tr th:only-of-type {\n",
       "        vertical-align: middle;\n",
       "    }\n",
       "\n",
       "    .dataframe tbody tr th {\n",
       "        vertical-align: top;\n",
       "    }\n",
       "\n",
       "    .dataframe thead th {\n",
       "        text-align: right;\n",
       "    }\n",
       "</style>\n",
       "<table border=\"1\" class=\"dataframe\">\n",
       "  <thead>\n",
       "    <tr style=\"text-align: right;\">\n",
       "      <th></th>\n",
       "      <th>업종명</th>\n",
       "      <th>업소명</th>\n",
       "      <th>소재지</th>\n",
       "      <th>소재지전화번호</th>\n",
       "      <th>데이터기준일자</th>\n",
       "    </tr>\n",
       "  </thead>\n",
       "  <tbody>\n",
       "    <tr>\n",
       "      <th>0</th>\n",
       "      <td>제과점영업</td>\n",
       "      <td>인천당</td>\n",
       "      <td>인천광역시 중구 인현동 23</td>\n",
       "      <td>032-766-0287</td>\n",
       "      <td>2020-09-15</td>\n",
       "    </tr>\n",
       "    <tr>\n",
       "      <th>1</th>\n",
       "      <td>제과점영업</td>\n",
       "      <td>파리바게트 연안부두점</td>\n",
       "      <td>인천광역시 중구 축항대로86번길 38 (항동7가, 58-3번지 라이프상가 1층 10...</td>\n",
       "      <td>032-885-2448</td>\n",
       "      <td>2020-09-15</td>\n",
       "    </tr>\n",
       "    <tr>\n",
       "      <th>2</th>\n",
       "      <td>제과점영업</td>\n",
       "      <td>도미노피자 동인천역점</td>\n",
       "      <td>인천광역시 중구 참외전로 188 (율목동, 1층)</td>\n",
       "      <td>032-761-3094</td>\n",
       "      <td>2020-09-15</td>\n",
       "    </tr>\n",
       "    <tr>\n",
       "      <th>3</th>\n",
       "      <td>제과점영업</td>\n",
       "      <td>신포과자점</td>\n",
       "      <td>인천광역시 중구 우현로 45 (신포동, 9)</td>\n",
       "      <td>032-761-0229</td>\n",
       "      <td>2020-09-15</td>\n",
       "    </tr>\n",
       "    <tr>\n",
       "      <th>4</th>\n",
       "      <td>제과점영업</td>\n",
       "      <td>배스킨라빈스</td>\n",
       "      <td>인천광역시 중구 우현로87번길 2 (인현동)</td>\n",
       "      <td>032-764-2888</td>\n",
       "      <td>2020-09-15</td>\n",
       "    </tr>\n",
       "  </tbody>\n",
       "</table>\n",
       "</div>"
      ],
      "text/plain": [
       "     업종명          업소명                                                소재지  \\\n",
       "0  제과점영업          인천당                                   인천광역시 중구 인현동 23    \n",
       "1  제과점영업  파리바게트 연안부두점  인천광역시 중구 축항대로86번길 38 (항동7가, 58-3번지 라이프상가 1층 10...   \n",
       "2  제과점영업  도미노피자 동인천역점                        인천광역시 중구 참외전로 188 (율목동, 1층)   \n",
       "3  제과점영업        신포과자점                           인천광역시 중구 우현로 45 (신포동, 9)   \n",
       "4  제과점영업       배스킨라빈스                           인천광역시 중구 우현로87번길 2 (인현동)   \n",
       "\n",
       "        소재지전화번호     데이터기준일자  \n",
       "0  032-766-0287  2020-09-15  \n",
       "1  032-885-2448  2020-09-15  \n",
       "2  032-761-3094  2020-09-15  \n",
       "3  032-761-0229  2020-09-15  \n",
       "4  032-764-2888  2020-09-15  "
      ]
     },
     "execution_count": 133,
     "metadata": {},
     "output_type": "execute_result"
    }
   ],
   "source": [
    "IB_file = pd.read_csv('bread.csv',encoding='cp949',  engine='python')\n",
    "\n",
    "IB_file.head() #작업 내용 확인용 출력"
   ]
  },
  {
   "cell_type": "code",
   "execution_count": 135,
   "metadata": {},
   "outputs": [
    {
     "data": {
      "text/plain": [
       "111"
      ]
     },
     "execution_count": 135,
     "metadata": {},
     "output_type": "execute_result"
    }
   ],
   "source": [
    "IB_geoData = pd.read_csv('bread2.shp.csv',encoding='cp949',  engine='python')\n",
    "\n",
    "len(IB_geoData) #확인용 출력"
   ]
  },
  {
   "cell_type": "code",
   "execution_count": 159,
   "metadata": {},
   "outputs": [],
   "source": [
    "map_CB = folium.Map(location=[37.483130647735756, 126.50940729011631], zoom_start = 13)"
   ]
  },
  {
   "cell_type": "code",
   "execution_count": 160,
   "metadata": {},
   "outputs": [],
   "source": [
    "for i, store in IB_geoData.iterrows():   \n",
    "    folium.Marker(location=[store['위도'], store['경도']], popup= store['업소명'], icon=folium.Icon(color='blue', icon='star')).add_to(map_CB)"
   ]
  },
  {
   "cell_type": "code",
   "execution_count": 161,
   "metadata": {},
   "outputs": [],
   "source": [
    "map_CB.save('map_CB.html')"
   ]
  },
  {
   "cell_type": "code",
   "execution_count": 162,
   "metadata": {},
   "outputs": [
    {
     "data": {
      "text/plain": [
       "True"
      ]
     },
     "execution_count": 162,
     "metadata": {},
     "output_type": "execute_result"
    }
   ],
   "source": [
    "import webbrowser\n",
    "\n",
    "webbrowser.open('map_CB.html')\n",
    "#file:///C:/Users/user/map_CB.html"
   ]
  }
 ],
 "metadata": {
  "kernelspec": {
   "display_name": "Python 3",
   "language": "python",
   "name": "python3"
  },
  "language_info": {
   "codemirror_mode": {
    "name": "ipython",
    "version": 3
   },
   "file_extension": ".py",
   "mimetype": "text/x-python",
   "name": "python",
   "nbconvert_exporter": "python",
   "pygments_lexer": "ipython3",
   "version": "3.8.5"
  }
 },
 "nbformat": 4,
 "nbformat_minor": 4
}
