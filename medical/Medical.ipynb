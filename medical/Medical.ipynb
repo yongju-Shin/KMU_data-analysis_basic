{
 "cells": [
  {
   "cell_type": "markdown",
   "metadata": {},
   "source": [
    "# 지리 정보 분석 (2) 행정구역별 데이터 분석 "
   ]
  },
  {
   "cell_type": "markdown",
   "metadata": {},
   "source": [
    "# 1. 데이터 준비 및 탐색"
   ]
  },
  {
   "cell_type": "code",
   "execution_count": 1,
   "metadata": {},
   "outputs": [
    {
     "data": {
      "text/html": [
       "<div>\n",
       "<style scoped>\n",
       "    .dataframe tbody tr th:only-of-type {\n",
       "        vertical-align: middle;\n",
       "    }\n",
       "\n",
       "    .dataframe tbody tr th {\n",
       "        vertical-align: top;\n",
       "    }\n",
       "\n",
       "    .dataframe thead th {\n",
       "        text-align: right;\n",
       "    }\n",
       "</style>\n",
       "<table border=\"1\" class=\"dataframe\">\n",
       "  <thead>\n",
       "    <tr style=\"text-align: right;\">\n",
       "      <th></th>\n",
       "      <th>병원 명</th>\n",
       "      <th>설립형태</th>\n",
       "      <th>근거 법령</th>\n",
       "      <th>관계 행정기관</th>\n",
       "      <th>관계 공공단체</th>\n",
       "      <th>심평원 요양기관번호</th>\n",
       "      <th>종별구분</th>\n",
       "      <th>병상수</th>\n",
       "      <th>소재지 우편번호</th>\n",
       "      <th>주소</th>\n",
       "      <th>홈페이지</th>\n",
       "      <th>대표전화</th>\n",
       "      <th>FAX</th>\n",
       "      <th>비고</th>\n",
       "    </tr>\n",
       "    <tr>\n",
       "      <th>연번</th>\n",
       "      <th></th>\n",
       "      <th></th>\n",
       "      <th></th>\n",
       "      <th></th>\n",
       "      <th></th>\n",
       "      <th></th>\n",
       "      <th></th>\n",
       "      <th></th>\n",
       "      <th></th>\n",
       "      <th></th>\n",
       "      <th></th>\n",
       "      <th></th>\n",
       "      <th></th>\n",
       "      <th></th>\n",
       "    </tr>\n",
       "  </thead>\n",
       "  <tbody>\n",
       "    <tr>\n",
       "      <th>1</th>\n",
       "      <td>강원도 재활병원</td>\n",
       "      <td>시도립</td>\n",
       "      <td>강원도재활병원설치및운영에관한조례</td>\n",
       "      <td>강원도</td>\n",
       "      <td>해당없음</td>\n",
       "      <td>32200641</td>\n",
       "      <td>병원</td>\n",
       "      <td>165</td>\n",
       "      <td>24227</td>\n",
       "      <td>강원도 춘천시 충열로 142번길 24-16</td>\n",
       "      <td>www.grh.or.kr</td>\n",
       "      <td>033-248-7700</td>\n",
       "      <td>033-248-7723</td>\n",
       "      <td>NaN</td>\n",
       "    </tr>\n",
       "    <tr>\n",
       "      <th>2</th>\n",
       "      <td>강원도 삼척의료원</td>\n",
       "      <td>특수법인</td>\n",
       "      <td>지방의료원의 설립 및 운영에 관한 법률</td>\n",
       "      <td>보건복지부(강원도)</td>\n",
       "      <td>지방의료원</td>\n",
       "      <td>32100060</td>\n",
       "      <td>종합병원</td>\n",
       "      <td>152</td>\n",
       "      <td>25920</td>\n",
       "      <td>강원도 삼척시 오십천로 418</td>\n",
       "      <td>http://ksmc.or.kr</td>\n",
       "      <td>033-572-1141</td>\n",
       "      <td>033-573-8424</td>\n",
       "      <td>NaN</td>\n",
       "    </tr>\n",
       "    <tr>\n",
       "      <th>3</th>\n",
       "      <td>강원도 영월의료원</td>\n",
       "      <td>특수법인</td>\n",
       "      <td>지방의료원의 설립 및 운영에 관한 법률</td>\n",
       "      <td>보건복지부(강원도)</td>\n",
       "      <td>지방의료원</td>\n",
       "      <td>32100078</td>\n",
       "      <td>종합병원</td>\n",
       "      <td>214</td>\n",
       "      <td>26234</td>\n",
       "      <td>강원도 영월군 영월읍 중앙1로 59</td>\n",
       "      <td>http://www.youngwol.org</td>\n",
       "      <td>033-370-9117</td>\n",
       "      <td>033-370-9137</td>\n",
       "      <td>NaN</td>\n",
       "    </tr>\n",
       "    <tr>\n",
       "      <th>4</th>\n",
       "      <td>강원도 원주의료원</td>\n",
       "      <td>특수법인</td>\n",
       "      <td>지방의료원의 설립 및 운영에 관한 법률</td>\n",
       "      <td>보건복지부(강원도)</td>\n",
       "      <td>지방의료원</td>\n",
       "      <td>32100086</td>\n",
       "      <td>종합병원</td>\n",
       "      <td>237</td>\n",
       "      <td>26448</td>\n",
       "      <td>강원도 원주시 서원대로 387(개운동)</td>\n",
       "      <td>www.kwmc.or.kr</td>\n",
       "      <td>033-760-4500</td>\n",
       "      <td>033-761-5121</td>\n",
       "      <td>NaN</td>\n",
       "    </tr>\n",
       "    <tr>\n",
       "      <th>5</th>\n",
       "      <td>강원도 강릉의료원</td>\n",
       "      <td>특수법인</td>\n",
       "      <td>지방의료원의 설립 및 운영에 관한 법률</td>\n",
       "      <td>보건복지부(강원도)</td>\n",
       "      <td>지방의료원</td>\n",
       "      <td>32100159</td>\n",
       "      <td>종합병원</td>\n",
       "      <td>137</td>\n",
       "      <td>25535</td>\n",
       "      <td>강원도 강릉시 경강로 2007(남문동 164-1)</td>\n",
       "      <td>http://www.gnmc.or.kr</td>\n",
       "      <td>033-646-6910</td>\n",
       "      <td>033-610-1415</td>\n",
       "      <td>NaN</td>\n",
       "    </tr>\n",
       "  </tbody>\n",
       "</table>\n",
       "</div>"
      ],
      "text/plain": [
       "         병원 명  설립형태                  근거 법령     관계 행정기관 관계 공공단체  심평원 요양기관번호  \\\n",
       "연번                                                                           \n",
       "1    강원도 재활병원   시도립      강원도재활병원설치및운영에관한조례         강원도    해당없음    32200641   \n",
       "2   강원도 삼척의료원  특수법인  지방의료원의 설립 및 운영에 관한 법률  보건복지부(강원도)   지방의료원    32100060   \n",
       "3   강원도 영월의료원  특수법인  지방의료원의 설립 및 운영에 관한 법률  보건복지부(강원도)   지방의료원    32100078   \n",
       "4   강원도 원주의료원  특수법인  지방의료원의 설립 및 운영에 관한 법률  보건복지부(강원도)   지방의료원    32100086   \n",
       "5   강원도 강릉의료원  특수법인  지방의료원의 설립 및 운영에 관한 법률  보건복지부(강원도)   지방의료원    32100159   \n",
       "\n",
       "    종별구분  병상수 소재지 우편번호                           주소                     홈페이지  \\\n",
       "연번                                                                             \n",
       "1     병원  165    24227      강원도 춘천시 충열로 142번길 24-16            www.grh.or.kr   \n",
       "2   종합병원  152    25920             강원도 삼척시 오십천로 418        http://ksmc.or.kr   \n",
       "3   종합병원  214    26234          강원도 영월군 영월읍 중앙1로 59  http://www.youngwol.org   \n",
       "4   종합병원  237    26448        강원도 원주시 서원대로 387(개운동)           www.kwmc.or.kr   \n",
       "5   종합병원  137    25535  강원도 강릉시 경강로 2007(남문동 164-1)    http://www.gnmc.or.kr   \n",
       "\n",
       "            대표전화           FAX   비고  \n",
       "연번                                   \n",
       "1   033-248-7700  033-248-7723  NaN  \n",
       "2   033-572-1141  033-573-8424  NaN  \n",
       "3   033-370-9117  033-370-9137  NaN  \n",
       "4   033-760-4500  033-761-5121  NaN  \n",
       "5   033-646-6910  033-610-1415  NaN  "
      ]
     },
     "execution_count": 1,
     "metadata": {},
     "output_type": "execute_result"
    }
   ],
   "source": [
    "import pandas as pd\n",
    "pd.set_option('mode.chained_assignment',  None) # Warning 방지용\n",
    "\n",
    "import numpy as np\n",
    "data = pd.read_csv('medical.csv', index_col=0, encoding='CP949', engine='python')\n",
    "\n",
    "data.head() #작업내용 확인용 출력"
   ]
  },
  {
   "cell_type": "code",
   "execution_count": 2,
   "metadata": {},
   "outputs": [
    {
     "data": {
      "text/html": [
       "<div>\n",
       "<style scoped>\n",
       "    .dataframe tbody tr th:only-of-type {\n",
       "        vertical-align: middle;\n",
       "    }\n",
       "\n",
       "    .dataframe tbody tr th {\n",
       "        vertical-align: top;\n",
       "    }\n",
       "\n",
       "    .dataframe thead th {\n",
       "        text-align: right;\n",
       "    }\n",
       "</style>\n",
       "<table border=\"1\" class=\"dataframe\">\n",
       "  <thead>\n",
       "    <tr style=\"text-align: right;\">\n",
       "      <th></th>\n",
       "      <th>시도</th>\n",
       "      <th>군구</th>\n",
       "    </tr>\n",
       "  </thead>\n",
       "  <tbody>\n",
       "    <tr>\n",
       "      <th>0</th>\n",
       "      <td>강원도</td>\n",
       "      <td>춘천시</td>\n",
       "    </tr>\n",
       "    <tr>\n",
       "      <th>1</th>\n",
       "      <td>강원도</td>\n",
       "      <td>삼척시</td>\n",
       "    </tr>\n",
       "    <tr>\n",
       "      <th>2</th>\n",
       "      <td>강원도</td>\n",
       "      <td>영월군</td>\n",
       "    </tr>\n",
       "    <tr>\n",
       "      <th>3</th>\n",
       "      <td>강원도</td>\n",
       "      <td>원주시</td>\n",
       "    </tr>\n",
       "    <tr>\n",
       "      <th>4</th>\n",
       "      <td>강원도</td>\n",
       "      <td>강릉시</td>\n",
       "    </tr>\n",
       "  </tbody>\n",
       "</table>\n",
       "</div>"
      ],
      "text/plain": [
       "    시도   군구\n",
       "0  강원도  춘천시\n",
       "1  강원도  삼척시\n",
       "2  강원도  영월군\n",
       "3  강원도  원주시\n",
       "4  강원도  강릉시"
      ]
     },
     "execution_count": 2,
     "metadata": {},
     "output_type": "execute_result"
    }
   ],
   "source": [
    "## 주소에서 시도, 군구 정보 분리\n",
    "\n",
    "addr = pd.DataFrame(data['주소'].apply(lambda v: v.split()[:2]).tolist(),columns=('시도', '군구'))\n",
    "\n",
    "addr.head()  #작업내용 확인용 출력"
   ]
  },
  {
   "cell_type": "markdown",
   "metadata": {},
   "source": [
    "## 1) 시도 이름 확인하기"
   ]
  },
  {
   "cell_type": "code",
   "execution_count": 3,
   "metadata": {},
   "outputs": [
    {
     "data": {
      "text/plain": [
       "array(['강원도', '경기도', '경기', '경남', '창원시', '경상남도', '경상북도', '경산시', '경북',\n",
       "       '인천광역시', '대구광역시', '전라남도', '대전광역시', '광주광역시', '제주특별자치도', '부산광역시',\n",
       "       '전라북도', '충북', '서울특별시', '서울시', '부산특별시', '대전시', '충남', '전남', '충청남도',\n",
       "       '울산광역시', '전북', '천안시', '충청북도'], dtype=object)"
      ]
     },
     "execution_count": 3,
     "metadata": {},
     "output_type": "execute_result"
    }
   ],
   "source": [
    "addr['시도'].unique()"
   ]
  },
  {
   "cell_type": "markdown",
   "metadata": {},
   "source": [
    "### #잘못된 시도 이름 수정 : 창원시, 경산시, 천안시"
   ]
  },
  {
   "cell_type": "markdown",
   "metadata": {},
   "source": [
    "#### (1) '창원시'를 찾아서 '경상남도 창원시'로 수정"
   ]
  },
  {
   "cell_type": "code",
   "execution_count": 4,
   "metadata": {},
   "outputs": [
    {
     "data": {
      "text/html": [
       "<div>\n",
       "<style scoped>\n",
       "    .dataframe tbody tr th:only-of-type {\n",
       "        vertical-align: middle;\n",
       "    }\n",
       "\n",
       "    .dataframe tbody tr th {\n",
       "        vertical-align: top;\n",
       "    }\n",
       "\n",
       "    .dataframe thead th {\n",
       "        text-align: right;\n",
       "    }\n",
       "</style>\n",
       "<table border=\"1\" class=\"dataframe\">\n",
       "  <thead>\n",
       "    <tr style=\"text-align: right;\">\n",
       "      <th></th>\n",
       "      <th>시도</th>\n",
       "      <th>군구</th>\n",
       "    </tr>\n",
       "  </thead>\n",
       "  <tbody>\n",
       "    <tr>\n",
       "      <th>27</th>\n",
       "      <td>창원시</td>\n",
       "      <td>의창구</td>\n",
       "    </tr>\n",
       "    <tr>\n",
       "      <th>31</th>\n",
       "      <td>창원시</td>\n",
       "      <td>마산합포구3.15대로</td>\n",
       "    </tr>\n",
       "  </tbody>\n",
       "</table>\n",
       "</div>"
      ],
      "text/plain": [
       "     시도           군구\n",
       "27  창원시          의창구\n",
       "31  창원시  마산합포구3.15대로"
      ]
     },
     "execution_count": 4,
     "metadata": {},
     "output_type": "execute_result"
    }
   ],
   "source": [
    "addr[addr['시도'] == '창원시']"
   ]
  },
  {
   "cell_type": "code",
   "execution_count": 5,
   "metadata": {},
   "outputs": [],
   "source": [
    "## 표준 행정구역 이름으로 수정 : 창원시-> 경상남도 창원시\n",
    "addr.iloc[27] = ['경상남도', '창원시']\n",
    "addr.iloc[31] = ['경상남도', '창원시']"
   ]
  },
  {
   "cell_type": "code",
   "execution_count": 6,
   "metadata": {},
   "outputs": [
    {
     "data": {
      "text/plain": [
       "시도    경상남도\n",
       "군구     창원시\n",
       "Name: 27, dtype: object"
      ]
     },
     "execution_count": 6,
     "metadata": {},
     "output_type": "execute_result"
    }
   ],
   "source": [
    "addr.iloc[27]"
   ]
  },
  {
   "cell_type": "code",
   "execution_count": 7,
   "metadata": {},
   "outputs": [
    {
     "data": {
      "text/plain": [
       "시도    경상남도\n",
       "군구     창원시\n",
       "Name: 31, dtype: object"
      ]
     },
     "execution_count": 7,
     "metadata": {},
     "output_type": "execute_result"
    }
   ],
   "source": [
    "addr.iloc[31]"
   ]
  },
  {
   "cell_type": "markdown",
   "metadata": {},
   "source": [
    "#### (2) '경산시'를 찾아서 '경상북도 경산시'로 수정"
   ]
  },
  {
   "cell_type": "code",
   "execution_count": 8,
   "metadata": {},
   "outputs": [
    {
     "data": {
      "text/html": [
       "<div>\n",
       "<style scoped>\n",
       "    .dataframe tbody tr th:only-of-type {\n",
       "        vertical-align: middle;\n",
       "    }\n",
       "\n",
       "    .dataframe tbody tr th {\n",
       "        vertical-align: top;\n",
       "    }\n",
       "\n",
       "    .dataframe thead th {\n",
       "        text-align: right;\n",
       "    }\n",
       "</style>\n",
       "<table border=\"1\" class=\"dataframe\">\n",
       "  <thead>\n",
       "    <tr style=\"text-align: right;\">\n",
       "      <th></th>\n",
       "      <th>시도</th>\n",
       "      <th>군구</th>\n",
       "    </tr>\n",
       "  </thead>\n",
       "  <tbody>\n",
       "    <tr>\n",
       "      <th>47</th>\n",
       "      <td>경산시</td>\n",
       "      <td>경안로</td>\n",
       "    </tr>\n",
       "  </tbody>\n",
       "</table>\n",
       "</div>"
      ],
      "text/plain": [
       "     시도   군구\n",
       "47  경산시  경안로"
      ]
     },
     "execution_count": 8,
     "metadata": {},
     "output_type": "execute_result"
    }
   ],
   "source": [
    "addr[addr['시도'] == '경산시']"
   ]
  },
  {
   "cell_type": "code",
   "execution_count": 9,
   "metadata": {},
   "outputs": [
    {
     "data": {
      "text/plain": [
       "시도    경상북도\n",
       "군구     경산시\n",
       "Name: 47, dtype: object"
      ]
     },
     "execution_count": 9,
     "metadata": {},
     "output_type": "execute_result"
    }
   ],
   "source": [
    "addr.iloc[47] = ['경상북도', '경산시']\n",
    "\n",
    "addr.iloc[47]"
   ]
  },
  {
   "cell_type": "markdown",
   "metadata": {},
   "source": [
    "#### (3) '천안시'를 찾아서 '충청남도 천안시'로 수정"
   ]
  },
  {
   "cell_type": "code",
   "execution_count": 10,
   "metadata": {},
   "outputs": [
    {
     "data": {
      "text/html": [
       "<div>\n",
       "<style scoped>\n",
       "    .dataframe tbody tr th:only-of-type {\n",
       "        vertical-align: middle;\n",
       "    }\n",
       "\n",
       "    .dataframe tbody tr th {\n",
       "        vertical-align: top;\n",
       "    }\n",
       "\n",
       "    .dataframe thead th {\n",
       "        text-align: right;\n",
       "    }\n",
       "</style>\n",
       "<table border=\"1\" class=\"dataframe\">\n",
       "  <thead>\n",
       "    <tr style=\"text-align: right;\">\n",
       "      <th></th>\n",
       "      <th>시도</th>\n",
       "      <th>군구</th>\n",
       "    </tr>\n",
       "  </thead>\n",
       "  <tbody>\n",
       "    <tr>\n",
       "      <th>209</th>\n",
       "      <td>천안시</td>\n",
       "      <td>동남구</td>\n",
       "    </tr>\n",
       "    <tr>\n",
       "      <th>210</th>\n",
       "      <td>천안시</td>\n",
       "      <td>동남구</td>\n",
       "    </tr>\n",
       "  </tbody>\n",
       "</table>\n",
       "</div>"
      ],
      "text/plain": [
       "      시도   군구\n",
       "209  천안시  동남구\n",
       "210  천안시  동남구"
      ]
     },
     "execution_count": 10,
     "metadata": {},
     "output_type": "execute_result"
    }
   ],
   "source": [
    "addr[addr['시도'] == '천안시']"
   ]
  },
  {
   "cell_type": "code",
   "execution_count": 11,
   "metadata": {},
   "outputs": [],
   "source": [
    "## 표준 행정구역 이름으로 수정 : 천안시-> 충청남도 천안시\n",
    "addr.iloc[209] = ['충청남도', '천안시']\n",
    "addr.iloc[210] = ['충청남도', '천안시']"
   ]
  },
  {
   "cell_type": "code",
   "execution_count": 12,
   "metadata": {},
   "outputs": [
    {
     "data": {
      "text/plain": [
       "시도    충청남도\n",
       "군구     천안시\n",
       "Name: 209, dtype: object"
      ]
     },
     "execution_count": 12,
     "metadata": {},
     "output_type": "execute_result"
    }
   ],
   "source": [
    "addr.iloc[209]"
   ]
  },
  {
   "cell_type": "code",
   "execution_count": 13,
   "metadata": {},
   "outputs": [
    {
     "data": {
      "text/plain": [
       "시도    충청남도\n",
       "군구     천안시\n",
       "Name: 210, dtype: object"
      ]
     },
     "execution_count": 13,
     "metadata": {},
     "output_type": "execute_result"
    }
   ],
   "source": [
    "addr.iloc[210]"
   ]
  },
  {
   "cell_type": "code",
   "execution_count": 14,
   "metadata": {},
   "outputs": [
    {
     "data": {
      "text/plain": [
       "array(['강원도', '경기도', '경기', '경남', '경상남도', '경상북도', '경북', '인천광역시', '대구광역시',\n",
       "       '전라남도', '대전광역시', '광주광역시', '제주특별자치도', '부산광역시', '전라북도', '충북',\n",
       "       '서울특별시', '서울시', '부산특별시', '대전시', '충남', '전남', '충청남도', '울산광역시', '전북',\n",
       "       '충청북도'], dtype=object)"
      ]
     },
     "execution_count": 14,
     "metadata": {},
     "output_type": "execute_result"
    }
   ],
   "source": [
    "# 작업 결과 확인하기\n",
    "addr['시도'].unique()"
   ]
  },
  {
   "cell_type": "markdown",
   "metadata": {},
   "source": [
    "### # 시도 이름을 표준이름으로 수정"
   ]
  },
  {
   "cell_type": "code",
   "execution_count": 15,
   "metadata": {},
   "outputs": [],
   "source": [
    "## 표준 행정구역 이름으로 수정 :  경기 -> 경기도, 경남 -> 경상남도, ...\n",
    "addr_aliases = {'경기':'경기도', '경남':'경상남도', '경북':'경상북도', '충북':'충청북도', '서울시':'서울특별시', '부산특별시':'부산광역시', '대전시':'대전광역시', '충남':'충청남도', '전남':'전라남도', '전북':'전라북도'}"
   ]
  },
  {
   "cell_type": "code",
   "execution_count": 16,
   "metadata": {},
   "outputs": [],
   "source": [
    "addr['시도']= addr['시도'].apply(lambda v: addr_aliases.get(v, v))"
   ]
  },
  {
   "cell_type": "code",
   "execution_count": 17,
   "metadata": {},
   "outputs": [
    {
     "data": {
      "text/plain": [
       "array(['강원도', '경기도', '경상남도', '경상북도', '인천광역시', '대구광역시', '전라남도', '대전광역시',\n",
       "       '광주광역시', '제주특별자치도', '부산광역시', '전라북도', '충청북도', '서울특별시', '충청남도',\n",
       "       '울산광역시'], dtype=object)"
      ]
     },
     "execution_count": 17,
     "metadata": {},
     "output_type": "execute_result"
    }
   ],
   "source": [
    "# 작업 결과 확인하기\n",
    "addr['시도'].unique()"
   ]
  },
  {
   "cell_type": "markdown",
   "metadata": {},
   "source": [
    "## 2) 군구 이름 확인하기 "
   ]
  },
  {
   "cell_type": "code",
   "execution_count": 18,
   "metadata": {},
   "outputs": [
    {
     "data": {
      "text/plain": [
       "array(['춘천시', '삼척시', '영월군', '원주시', '강릉시', '속초시', '정선군', '수원시', '이천시',\n",
       "       '안성시', '의정부시', '포천시', '파주시', '용인시', '평택시', '시흥시', '여주시', '남양주시',\n",
       "       '동두천시', '안산시', '부천시', '통영시', '사천시', '창원시', '김해시', '양산시', '거창군',\n",
       "       '남해군', '의령군', '포항시', '김천시', '안동시', '울진군', '경주시', '구미시', '영주시',\n",
       "       '상주시', '문경시', '경산시', '의성군', '청도군', '고령군', '칠곡군', '봉화군', '울릉군',\n",
       "       '부평구', '북구', '순천시', '대덕구', '태백시', '동해시', '화성시', '광산구', '남구', '중구',\n",
       "       '아란13길', '서구', '전주시', '진주시', '청주시', '종로구', '성남시', '동구', '화순군',\n",
       "       '강동구', '사상구', '달서구', '해운대구', '유성구', '가평군', '양주시', '고양시', '홍천군',\n",
       "       '양구군', '청원군', '계룡시', '논산시', '함평군', '양평군', '수성구', '달성군', '연수구',\n",
       "       '노원구', '기장군', '공주시', '강북구', '광진구', '나주시', '창녕군', '목포시', '고흥군',\n",
       "       '연제구', '동매로', '서초구', '은평구', '중랑구', '강남구', '동작구', '동대문구', '양천구',\n",
       "       '성동구', '송파구', '울주군', '계양구', '옹진군', '보성군', '광양시', '영광군', '무안군',\n",
       "       '진도군', '강진군', '곡성군', '여수시', '신안군', '장성군', '완주군', '부안군', '정읍시',\n",
       "       '남원시', '군산시', '고창군', '진안군', '제주시', '서귀포시', '천안시', '보령시', '서산시',\n",
       "       '서천군', '홍성군', '제천시', '충주시', '영동군', '단양군'], dtype=object)"
      ]
     },
     "execution_count": 18,
     "metadata": {},
     "output_type": "execute_result"
    }
   ],
   "source": [
    "addr['군구'].unique()"
   ]
  },
  {
   "cell_type": "markdown",
   "metadata": {},
   "source": [
    "### # 잘못된 군구 이름 수정하기 "
   ]
  },
  {
   "cell_type": "markdown",
   "metadata": {},
   "source": [
    "#### (1) '아란13길' 을 '제주특별자치도'  '제주시'로 수정"
   ]
  },
  {
   "cell_type": "code",
   "execution_count": 19,
   "metadata": {},
   "outputs": [
    {
     "data": {
      "text/html": [
       "<div>\n",
       "<style scoped>\n",
       "    .dataframe tbody tr th:only-of-type {\n",
       "        vertical-align: middle;\n",
       "    }\n",
       "\n",
       "    .dataframe tbody tr th {\n",
       "        vertical-align: top;\n",
       "    }\n",
       "\n",
       "    .dataframe thead th {\n",
       "        text-align: right;\n",
       "    }\n",
       "</style>\n",
       "<table border=\"1\" class=\"dataframe\">\n",
       "  <thead>\n",
       "    <tr style=\"text-align: right;\">\n",
       "      <th></th>\n",
       "      <th>시도</th>\n",
       "      <th>군구</th>\n",
       "    </tr>\n",
       "  </thead>\n",
       "  <tbody>\n",
       "    <tr>\n",
       "      <th>75</th>\n",
       "      <td>제주특별자치도</td>\n",
       "      <td>아란13길</td>\n",
       "    </tr>\n",
       "  </tbody>\n",
       "</table>\n",
       "</div>"
      ],
      "text/plain": [
       "         시도     군구\n",
       "75  제주특별자치도  아란13길"
      ]
     },
     "execution_count": 19,
     "metadata": {},
     "output_type": "execute_result"
    }
   ],
   "source": [
    "addr[addr['군구'] == '아란13길']"
   ]
  },
  {
   "cell_type": "code",
   "execution_count": 20,
   "metadata": {},
   "outputs": [
    {
     "data": {
      "text/plain": [
       "시도    제주특별자치도\n",
       "군구        제주시\n",
       "Name: 75, dtype: object"
      ]
     },
     "execution_count": 20,
     "metadata": {},
     "output_type": "execute_result"
    }
   ],
   "source": [
    "addr.iloc[75] = ['제주특별자치도', '제주시']\n",
    "\n",
    "addr.iloc[75]"
   ]
  },
  {
   "cell_type": "code",
   "execution_count": 21,
   "metadata": {},
   "outputs": [
    {
     "data": {
      "text/plain": [
       "array(['춘천시', '삼척시', '영월군', '원주시', '강릉시', '속초시', '정선군', '수원시', '이천시',\n",
       "       '안성시', '의정부시', '포천시', '파주시', '용인시', '평택시', '시흥시', '여주시', '남양주시',\n",
       "       '동두천시', '안산시', '부천시', '통영시', '사천시', '창원시', '김해시', '양산시', '거창군',\n",
       "       '남해군', '의령군', '포항시', '김천시', '안동시', '울진군', '경주시', '구미시', '영주시',\n",
       "       '상주시', '문경시', '경산시', '의성군', '청도군', '고령군', '칠곡군', '봉화군', '울릉군',\n",
       "       '부평구', '북구', '순천시', '대덕구', '태백시', '동해시', '화성시', '광산구', '남구', '중구',\n",
       "       '제주시', '서구', '전주시', '진주시', '청주시', '종로구', '성남시', '동구', '화순군', '강동구',\n",
       "       '사상구', '달서구', '해운대구', '유성구', '가평군', '양주시', '고양시', '홍천군', '양구군',\n",
       "       '청원군', '계룡시', '논산시', '함평군', '양평군', '수성구', '달성군', '연수구', '노원구',\n",
       "       '기장군', '공주시', '강북구', '광진구', '나주시', '창녕군', '목포시', '고흥군', '연제구',\n",
       "       '동매로', '서초구', '은평구', '중랑구', '강남구', '동작구', '동대문구', '양천구', '성동구',\n",
       "       '송파구', '울주군', '계양구', '옹진군', '보성군', '광양시', '영광군', '무안군', '진도군',\n",
       "       '강진군', '곡성군', '여수시', '신안군', '장성군', '완주군', '부안군', '정읍시', '남원시',\n",
       "       '군산시', '고창군', '진안군', '서귀포시', '천안시', '보령시', '서산시', '서천군', '홍성군',\n",
       "       '제천시', '충주시', '영동군', '단양군'], dtype=object)"
      ]
     },
     "execution_count": 21,
     "metadata": {},
     "output_type": "execute_result"
    }
   ],
   "source": [
    "addr['군구'].unique()"
   ]
  },
  {
   "cell_type": "markdown",
   "metadata": {},
   "source": [
    "## 3) 행정구역별 공공보건의료기관의 수 구하기"
   ]
  },
  {
   "cell_type": "markdown",
   "metadata": {},
   "source": [
    "### (1) '시도' 와 '군구' 컬럼 결합하기"
   ]
  },
  {
   "cell_type": "code",
   "execution_count": 22,
   "metadata": {},
   "outputs": [
    {
     "data": {
      "text/html": [
       "<div>\n",
       "<style scoped>\n",
       "    .dataframe tbody tr th:only-of-type {\n",
       "        vertical-align: middle;\n",
       "    }\n",
       "\n",
       "    .dataframe tbody tr th {\n",
       "        vertical-align: top;\n",
       "    }\n",
       "\n",
       "    .dataframe thead th {\n",
       "        text-align: right;\n",
       "    }\n",
       "</style>\n",
       "<table border=\"1\" class=\"dataframe\">\n",
       "  <thead>\n",
       "    <tr style=\"text-align: right;\">\n",
       "      <th></th>\n",
       "      <th>시도</th>\n",
       "      <th>군구</th>\n",
       "      <th>시도군구</th>\n",
       "    </tr>\n",
       "  </thead>\n",
       "  <tbody>\n",
       "    <tr>\n",
       "      <th>0</th>\n",
       "      <td>강원도</td>\n",
       "      <td>춘천시</td>\n",
       "      <td>강원도 춘천시</td>\n",
       "    </tr>\n",
       "    <tr>\n",
       "      <th>1</th>\n",
       "      <td>강원도</td>\n",
       "      <td>삼척시</td>\n",
       "      <td>강원도 삼척시</td>\n",
       "    </tr>\n",
       "    <tr>\n",
       "      <th>2</th>\n",
       "      <td>강원도</td>\n",
       "      <td>영월군</td>\n",
       "      <td>강원도 영월군</td>\n",
       "    </tr>\n",
       "    <tr>\n",
       "      <th>3</th>\n",
       "      <td>강원도</td>\n",
       "      <td>원주시</td>\n",
       "      <td>강원도 원주시</td>\n",
       "    </tr>\n",
       "    <tr>\n",
       "      <th>4</th>\n",
       "      <td>강원도</td>\n",
       "      <td>강릉시</td>\n",
       "      <td>강원도 강릉시</td>\n",
       "    </tr>\n",
       "  </tbody>\n",
       "</table>\n",
       "</div>"
      ],
      "text/plain": [
       "    시도   군구     시도군구\n",
       "0  강원도  춘천시  강원도 춘천시\n",
       "1  강원도  삼척시  강원도 삼척시\n",
       "2  강원도  영월군  강원도 영월군\n",
       "3  강원도  원주시  강원도 원주시\n",
       "4  강원도  강릉시  강원도 강릉시"
      ]
     },
     "execution_count": 22,
     "metadata": {},
     "output_type": "execute_result"
    }
   ],
   "source": [
    "addr['시도군구'] = addr.apply(lambda r: r['시도'] + ' ' + r['군구'], axis=1)\n",
    "\n",
    "addr.head() #작업 확인용 출력"
   ]
  },
  {
   "cell_type": "code",
   "execution_count": 23,
   "metadata": {
    "scrolled": true
   },
   "outputs": [
    {
     "data": {
      "text/html": [
       "<div>\n",
       "<style scoped>\n",
       "    .dataframe tbody tr th:only-of-type {\n",
       "        vertical-align: middle;\n",
       "    }\n",
       "\n",
       "    .dataframe tbody tr th {\n",
       "        vertical-align: top;\n",
       "    }\n",
       "\n",
       "    .dataframe thead th {\n",
       "        text-align: right;\n",
       "    }\n",
       "</style>\n",
       "<table border=\"1\" class=\"dataframe\">\n",
       "  <thead>\n",
       "    <tr style=\"text-align: right;\">\n",
       "      <th></th>\n",
       "      <th>시도</th>\n",
       "      <th>군구</th>\n",
       "      <th>시도군구</th>\n",
       "      <th>count</th>\n",
       "    </tr>\n",
       "  </thead>\n",
       "  <tbody>\n",
       "    <tr>\n",
       "      <th>0</th>\n",
       "      <td>강원도</td>\n",
       "      <td>춘천시</td>\n",
       "      <td>강원도 춘천시</td>\n",
       "      <td>0</td>\n",
       "    </tr>\n",
       "    <tr>\n",
       "      <th>1</th>\n",
       "      <td>강원도</td>\n",
       "      <td>삼척시</td>\n",
       "      <td>강원도 삼척시</td>\n",
       "      <td>0</td>\n",
       "    </tr>\n",
       "    <tr>\n",
       "      <th>2</th>\n",
       "      <td>강원도</td>\n",
       "      <td>영월군</td>\n",
       "      <td>강원도 영월군</td>\n",
       "      <td>0</td>\n",
       "    </tr>\n",
       "    <tr>\n",
       "      <th>3</th>\n",
       "      <td>강원도</td>\n",
       "      <td>원주시</td>\n",
       "      <td>강원도 원주시</td>\n",
       "      <td>0</td>\n",
       "    </tr>\n",
       "    <tr>\n",
       "      <th>4</th>\n",
       "      <td>강원도</td>\n",
       "      <td>강릉시</td>\n",
       "      <td>강원도 강릉시</td>\n",
       "      <td>0</td>\n",
       "    </tr>\n",
       "  </tbody>\n",
       "</table>\n",
       "</div>"
      ],
      "text/plain": [
       "    시도   군구     시도군구  count\n",
       "0  강원도  춘천시  강원도 춘천시      0\n",
       "1  강원도  삼척시  강원도 삼척시      0\n",
       "2  강원도  영월군  강원도 영월군      0\n",
       "3  강원도  원주시  강원도 원주시      0\n",
       "4  강원도  강릉시  강원도 강릉시      0"
      ]
     },
     "execution_count": 23,
     "metadata": {},
     "output_type": "execute_result"
    }
   ],
   "source": [
    "addr['count'] = 0  # 의료기관수 합계를 저장할 컬럼 만들기\n",
    "\n",
    "addr.head() #작업 확인용 출력"
   ]
  },
  {
   "cell_type": "markdown",
   "metadata": {},
   "source": [
    "### (2) '시도군구' 를 기준으로 그룹을 만들고, 그룹별 의료기관수 합계 구하기"
   ]
  },
  {
   "cell_type": "code",
   "execution_count": 24,
   "metadata": {
    "scrolled": true
   },
   "outputs": [
    {
     "data": {
      "text/html": [
       "<div>\n",
       "<style scoped>\n",
       "    .dataframe tbody tr th:only-of-type {\n",
       "        vertical-align: middle;\n",
       "    }\n",
       "\n",
       "    .dataframe tbody tr th {\n",
       "        vertical-align: top;\n",
       "    }\n",
       "\n",
       "    .dataframe thead th {\n",
       "        text-align: right;\n",
       "    }\n",
       "</style>\n",
       "<table border=\"1\" class=\"dataframe\">\n",
       "  <thead>\n",
       "    <tr style=\"text-align: right;\">\n",
       "      <th></th>\n",
       "      <th>시도</th>\n",
       "      <th>군구</th>\n",
       "      <th>시도군구</th>\n",
       "      <th>count</th>\n",
       "    </tr>\n",
       "  </thead>\n",
       "  <tbody>\n",
       "    <tr>\n",
       "      <th>0</th>\n",
       "      <td>강원도</td>\n",
       "      <td>강릉시</td>\n",
       "      <td>강원도 강릉시</td>\n",
       "      <td>4</td>\n",
       "    </tr>\n",
       "    <tr>\n",
       "      <th>1</th>\n",
       "      <td>강원도</td>\n",
       "      <td>동해시</td>\n",
       "      <td>강원도 동해시</td>\n",
       "      <td>1</td>\n",
       "    </tr>\n",
       "    <tr>\n",
       "      <th>2</th>\n",
       "      <td>강원도</td>\n",
       "      <td>삼척시</td>\n",
       "      <td>강원도 삼척시</td>\n",
       "      <td>1</td>\n",
       "    </tr>\n",
       "    <tr>\n",
       "      <th>3</th>\n",
       "      <td>강원도</td>\n",
       "      <td>속초시</td>\n",
       "      <td>강원도 속초시</td>\n",
       "      <td>1</td>\n",
       "    </tr>\n",
       "    <tr>\n",
       "      <th>4</th>\n",
       "      <td>강원도</td>\n",
       "      <td>양구군</td>\n",
       "      <td>강원도 양구군</td>\n",
       "      <td>1</td>\n",
       "    </tr>\n",
       "  </tbody>\n",
       "</table>\n",
       "</div>"
      ],
      "text/plain": [
       "    시도   군구     시도군구  count\n",
       "0  강원도  강릉시  강원도 강릉시      4\n",
       "1  강원도  동해시  강원도 동해시      1\n",
       "2  강원도  삼척시  강원도 삼척시      1\n",
       "3  강원도  속초시  강원도 속초시      1\n",
       "4  강원도  양구군  강원도 양구군      1"
      ]
     },
     "execution_count": 24,
     "metadata": {},
     "output_type": "execute_result"
    }
   ],
   "source": [
    "addr_group =pd.DataFrame(addr.groupby(['시도', '군구', '시도군구'], as_index=False).count())\n",
    "\n",
    "addr_group.head()  #작업 확인용 출력"
   ]
  },
  {
   "cell_type": "markdown",
   "metadata": {},
   "source": [
    "### (3) 데이터 병합에 사용할 인덱스 설정하기"
   ]
  },
  {
   "cell_type": "code",
   "execution_count": 25,
   "metadata": {},
   "outputs": [
    {
     "data": {
      "text/html": [
       "<div>\n",
       "<style scoped>\n",
       "    .dataframe tbody tr th:only-of-type {\n",
       "        vertical-align: middle;\n",
       "    }\n",
       "\n",
       "    .dataframe tbody tr th {\n",
       "        vertical-align: top;\n",
       "    }\n",
       "\n",
       "    .dataframe thead th {\n",
       "        text-align: right;\n",
       "    }\n",
       "</style>\n",
       "<table border=\"1\" class=\"dataframe\">\n",
       "  <thead>\n",
       "    <tr style=\"text-align: right;\">\n",
       "      <th></th>\n",
       "      <th>시도</th>\n",
       "      <th>군구</th>\n",
       "      <th>count</th>\n",
       "    </tr>\n",
       "    <tr>\n",
       "      <th>시도군구</th>\n",
       "      <th></th>\n",
       "      <th></th>\n",
       "      <th></th>\n",
       "    </tr>\n",
       "  </thead>\n",
       "  <tbody>\n",
       "    <tr>\n",
       "      <th>강원도 강릉시</th>\n",
       "      <td>강원도</td>\n",
       "      <td>강릉시</td>\n",
       "      <td>4</td>\n",
       "    </tr>\n",
       "    <tr>\n",
       "      <th>강원도 동해시</th>\n",
       "      <td>강원도</td>\n",
       "      <td>동해시</td>\n",
       "      <td>1</td>\n",
       "    </tr>\n",
       "    <tr>\n",
       "      <th>강원도 삼척시</th>\n",
       "      <td>강원도</td>\n",
       "      <td>삼척시</td>\n",
       "      <td>1</td>\n",
       "    </tr>\n",
       "    <tr>\n",
       "      <th>강원도 속초시</th>\n",
       "      <td>강원도</td>\n",
       "      <td>속초시</td>\n",
       "      <td>1</td>\n",
       "    </tr>\n",
       "    <tr>\n",
       "      <th>강원도 양구군</th>\n",
       "      <td>강원도</td>\n",
       "      <td>양구군</td>\n",
       "      <td>1</td>\n",
       "    </tr>\n",
       "  </tbody>\n",
       "</table>\n",
       "</div>"
      ],
      "text/plain": [
       "          시도   군구  count\n",
       "시도군구                    \n",
       "강원도 강릉시  강원도  강릉시      4\n",
       "강원도 동해시  강원도  동해시      1\n",
       "강원도 삼척시  강원도  삼척시      1\n",
       "강원도 속초시  강원도  속초시      1\n",
       "강원도 양구군  강원도  양구군      1"
      ]
     },
     "execution_count": 25,
     "metadata": {},
     "output_type": "execute_result"
    }
   ],
   "source": [
    "addr_group = addr_group.set_index(\"시도군구\")\n",
    "\n",
    "addr_group.head()   #작업 확인용 출력"
   ]
  },
  {
   "cell_type": "markdown",
   "metadata": {},
   "source": [
    "## 4) 행정구역 인구수 컬럼 추가하기"
   ]
  },
  {
   "cell_type": "markdown",
   "metadata": {},
   "source": [
    "####   (1) 행정구역 이름 데이터 불러오기 : 행정구역.xlsx"
   ]
  },
  {
   "cell_type": "code",
   "execution_count": 28,
   "metadata": {},
   "outputs": [
    {
     "data": {
      "text/html": [
       "<div>\n",
       "<style scoped>\n",
       "    .dataframe tbody tr th:only-of-type {\n",
       "        vertical-align: middle;\n",
       "    }\n",
       "\n",
       "    .dataframe tbody tr th {\n",
       "        vertical-align: top;\n",
       "    }\n",
       "\n",
       "    .dataframe thead th {\n",
       "        text-align: right;\n",
       "    }\n",
       "</style>\n",
       "<table border=\"1\" class=\"dataframe\">\n",
       "  <thead>\n",
       "    <tr style=\"text-align: right;\">\n",
       "      <th></th>\n",
       "      <th>행정구역(시군구)별(1)</th>\n",
       "      <th>행정구역(시군구)별(2)</th>\n",
       "      <th>총인구수 (명)</th>\n",
       "      <th>남자인구수 (명)</th>\n",
       "      <th>여자인구수 (명)</th>\n",
       "    </tr>\n",
       "  </thead>\n",
       "  <tbody>\n",
       "    <tr>\n",
       "      <th>0</th>\n",
       "      <td>전국</td>\n",
       "      <td>소계</td>\n",
       "      <td>51702100</td>\n",
       "      <td>25784538</td>\n",
       "      <td>25917562</td>\n",
       "    </tr>\n",
       "    <tr>\n",
       "      <th>1</th>\n",
       "      <td>서울특별시</td>\n",
       "      <td>소계</td>\n",
       "      <td>9588711</td>\n",
       "      <td>4661711</td>\n",
       "      <td>4927000</td>\n",
       "    </tr>\n",
       "    <tr>\n",
       "      <th>2</th>\n",
       "      <td>서울특별시</td>\n",
       "      <td>종로구</td>\n",
       "      <td>147113</td>\n",
       "      <td>71567</td>\n",
       "      <td>75546</td>\n",
       "    </tr>\n",
       "    <tr>\n",
       "      <th>3</th>\n",
       "      <td>서울특별시</td>\n",
       "      <td>중구</td>\n",
       "      <td>124477</td>\n",
       "      <td>60787</td>\n",
       "      <td>63690</td>\n",
       "    </tr>\n",
       "    <tr>\n",
       "      <th>4</th>\n",
       "      <td>서울특별시</td>\n",
       "      <td>용산구</td>\n",
       "      <td>228755</td>\n",
       "      <td>110038</td>\n",
       "      <td>118717</td>\n",
       "    </tr>\n",
       "  </tbody>\n",
       "</table>\n",
       "</div>"
      ],
      "text/plain": [
       "  행정구역(시군구)별(1) 행정구역(시군구)별(2)  총인구수 (명)  남자인구수 (명)  여자인구수 (명)\n",
       "0            전국            소계  51702100   25784538   25917562\n",
       "1         서울특별시            소계   9588711    4661711    4927000\n",
       "2         서울특별시        　　　종로구    147113      71567      75546\n",
       "3         서울특별시         　　　중구    124477      60787      63690\n",
       "4         서울특별시        　　　용산구    228755     110038     118717"
      ]
     },
     "execution_count": 28,
     "metadata": {},
     "output_type": "execute_result"
    }
   ],
   "source": [
    "population = pd.read_excel('행정구역.xlsx')\n",
    "\n",
    "population.head()    #작업 확인용 출력"
   ]
  },
  {
   "cell_type": "code",
   "execution_count": 29,
   "metadata": {},
   "outputs": [
    {
     "data": {
      "text/html": [
       "<div>\n",
       "<style scoped>\n",
       "    .dataframe tbody tr th:only-of-type {\n",
       "        vertical-align: middle;\n",
       "    }\n",
       "\n",
       "    .dataframe tbody tr th {\n",
       "        vertical-align: top;\n",
       "    }\n",
       "\n",
       "    .dataframe thead th {\n",
       "        text-align: right;\n",
       "    }\n",
       "</style>\n",
       "<table border=\"1\" class=\"dataframe\">\n",
       "  <thead>\n",
       "    <tr style=\"text-align: right;\">\n",
       "      <th></th>\n",
       "      <th>시도</th>\n",
       "      <th>군구</th>\n",
       "      <th>총인구수 (명)</th>\n",
       "      <th>남자인구수 (명)</th>\n",
       "      <th>여자인구수 (명)</th>\n",
       "    </tr>\n",
       "  </thead>\n",
       "  <tbody>\n",
       "    <tr>\n",
       "      <th>0</th>\n",
       "      <td>전국</td>\n",
       "      <td>소계</td>\n",
       "      <td>51702100</td>\n",
       "      <td>25784538</td>\n",
       "      <td>25917562</td>\n",
       "    </tr>\n",
       "    <tr>\n",
       "      <th>1</th>\n",
       "      <td>서울특별시</td>\n",
       "      <td>소계</td>\n",
       "      <td>9588711</td>\n",
       "      <td>4661711</td>\n",
       "      <td>4927000</td>\n",
       "    </tr>\n",
       "    <tr>\n",
       "      <th>2</th>\n",
       "      <td>서울특별시</td>\n",
       "      <td>종로구</td>\n",
       "      <td>147113</td>\n",
       "      <td>71567</td>\n",
       "      <td>75546</td>\n",
       "    </tr>\n",
       "    <tr>\n",
       "      <th>3</th>\n",
       "      <td>서울특별시</td>\n",
       "      <td>중구</td>\n",
       "      <td>124477</td>\n",
       "      <td>60787</td>\n",
       "      <td>63690</td>\n",
       "    </tr>\n",
       "    <tr>\n",
       "      <th>4</th>\n",
       "      <td>서울특별시</td>\n",
       "      <td>용산구</td>\n",
       "      <td>228755</td>\n",
       "      <td>110038</td>\n",
       "      <td>118717</td>\n",
       "    </tr>\n",
       "  </tbody>\n",
       "</table>\n",
       "</div>"
      ],
      "text/plain": [
       "      시도      군구  총인구수 (명)  남자인구수 (명)  여자인구수 (명)\n",
       "0     전국      소계  51702100   25784538   25917562\n",
       "1  서울특별시      소계   9588711    4661711    4927000\n",
       "2  서울특별시  　　　종로구    147113      71567      75546\n",
       "3  서울특별시   　　　중구    124477      60787      63690\n",
       "4  서울특별시  　　　용산구    228755     110038     118717"
      ]
     },
     "execution_count": 29,
     "metadata": {},
     "output_type": "execute_result"
    }
   ],
   "source": [
    "population = population.rename(columns = {'행정구역(시군구)별(1)': '시도', '행정구역(시군구)별(2)': '군구'}) #컬럼이름 변경\n",
    "\n",
    "population.head()  #작업 확인용 출력"
   ]
  },
  {
   "cell_type": "markdown",
   "metadata": {},
   "source": [
    "####   (2) 병합에 사용할 공통 컬럼 '시도군구' 추가하기"
   ]
  },
  {
   "cell_type": "code",
   "execution_count": 30,
   "metadata": {},
   "outputs": [],
   "source": [
    "# '군구' 컬럼에서 공백 제거하기\n",
    "for element in range(0,len(population)):\n",
    "      population['군구'][element] = population['군구'][element].strip()"
   ]
  },
  {
   "cell_type": "code",
   "execution_count": 32,
   "metadata": {},
   "outputs": [
    {
     "data": {
      "text/html": [
       "<div>\n",
       "<style scoped>\n",
       "    .dataframe tbody tr th:only-of-type {\n",
       "        vertical-align: middle;\n",
       "    }\n",
       "\n",
       "    .dataframe tbody tr th {\n",
       "        vertical-align: top;\n",
       "    }\n",
       "\n",
       "    .dataframe thead th {\n",
       "        text-align: right;\n",
       "    }\n",
       "</style>\n",
       "<table border=\"1\" class=\"dataframe\">\n",
       "  <thead>\n",
       "    <tr style=\"text-align: right;\">\n",
       "      <th></th>\n",
       "      <th>시도</th>\n",
       "      <th>군구</th>\n",
       "      <th>총인구수 (명)</th>\n",
       "      <th>남자인구수 (명)</th>\n",
       "      <th>여자인구수 (명)</th>\n",
       "      <th>시도군구</th>\n",
       "    </tr>\n",
       "  </thead>\n",
       "  <tbody>\n",
       "    <tr>\n",
       "      <th>0</th>\n",
       "      <td>전국</td>\n",
       "      <td>소계</td>\n",
       "      <td>51702100</td>\n",
       "      <td>25784538</td>\n",
       "      <td>25917562</td>\n",
       "      <td>전국 소계</td>\n",
       "    </tr>\n",
       "    <tr>\n",
       "      <th>1</th>\n",
       "      <td>서울특별시</td>\n",
       "      <td>소계</td>\n",
       "      <td>9588711</td>\n",
       "      <td>4661711</td>\n",
       "      <td>4927000</td>\n",
       "      <td>서울특별시 소계</td>\n",
       "    </tr>\n",
       "    <tr>\n",
       "      <th>2</th>\n",
       "      <td>서울특별시</td>\n",
       "      <td>종로구</td>\n",
       "      <td>147113</td>\n",
       "      <td>71567</td>\n",
       "      <td>75546</td>\n",
       "      <td>서울특별시 종로구</td>\n",
       "    </tr>\n",
       "    <tr>\n",
       "      <th>3</th>\n",
       "      <td>서울특별시</td>\n",
       "      <td>중구</td>\n",
       "      <td>124477</td>\n",
       "      <td>60787</td>\n",
       "      <td>63690</td>\n",
       "      <td>서울특별시 중구</td>\n",
       "    </tr>\n",
       "    <tr>\n",
       "      <th>4</th>\n",
       "      <td>서울특별시</td>\n",
       "      <td>용산구</td>\n",
       "      <td>228755</td>\n",
       "      <td>110038</td>\n",
       "      <td>118717</td>\n",
       "      <td>서울특별시 용산구</td>\n",
       "    </tr>\n",
       "  </tbody>\n",
       "</table>\n",
       "</div>"
      ],
      "text/plain": [
       "      시도   군구  총인구수 (명)  남자인구수 (명)  여자인구수 (명)       시도군구\n",
       "0     전국   소계  51702100   25784538   25917562      전국 소계\n",
       "1  서울특별시   소계   9588711    4661711    4927000   서울특별시 소계\n",
       "2  서울특별시  종로구    147113      71567      75546  서울특별시 종로구\n",
       "3  서울특별시   중구    124477      60787      63690   서울특별시 중구\n",
       "4  서울특별시  용산구    228755     110038     118717  서울특별시 용산구"
      ]
     },
     "execution_count": 32,
     "metadata": {},
     "output_type": "execute_result"
    }
   ],
   "source": [
    "# '시도'와 '군구'를 연결하여 '시도군구' 컬럼 추가\n",
    "population['시도군구']= population.apply(lambda r: r['시도'] + ' ' + r['군구'], axis=1)\n",
    "\n",
    "population.head()  #작업 확인용 출력"
   ]
  },
  {
   "cell_type": "markdown",
   "metadata": {},
   "source": [
    "##### -  필요없는  '소계' 행 삭제"
   ]
  },
  {
   "cell_type": "code",
   "execution_count": 33,
   "metadata": {},
   "outputs": [
    {
     "data": {
      "text/html": [
       "<div>\n",
       "<style scoped>\n",
       "    .dataframe tbody tr th:only-of-type {\n",
       "        vertical-align: middle;\n",
       "    }\n",
       "\n",
       "    .dataframe tbody tr th {\n",
       "        vertical-align: top;\n",
       "    }\n",
       "\n",
       "    .dataframe thead th {\n",
       "        text-align: right;\n",
       "    }\n",
       "</style>\n",
       "<table border=\"1\" class=\"dataframe\">\n",
       "  <thead>\n",
       "    <tr style=\"text-align: right;\">\n",
       "      <th></th>\n",
       "      <th>시도</th>\n",
       "      <th>군구</th>\n",
       "      <th>총인구수 (명)</th>\n",
       "      <th>남자인구수 (명)</th>\n",
       "      <th>여자인구수 (명)</th>\n",
       "      <th>시도군구</th>\n",
       "    </tr>\n",
       "  </thead>\n",
       "  <tbody>\n",
       "    <tr>\n",
       "      <th>2</th>\n",
       "      <td>서울특별시</td>\n",
       "      <td>종로구</td>\n",
       "      <td>147113</td>\n",
       "      <td>71567</td>\n",
       "      <td>75546</td>\n",
       "      <td>서울특별시 종로구</td>\n",
       "    </tr>\n",
       "    <tr>\n",
       "      <th>3</th>\n",
       "      <td>서울특별시</td>\n",
       "      <td>중구</td>\n",
       "      <td>124477</td>\n",
       "      <td>60787</td>\n",
       "      <td>63690</td>\n",
       "      <td>서울특별시 중구</td>\n",
       "    </tr>\n",
       "    <tr>\n",
       "      <th>4</th>\n",
       "      <td>서울특별시</td>\n",
       "      <td>용산구</td>\n",
       "      <td>228755</td>\n",
       "      <td>110038</td>\n",
       "      <td>118717</td>\n",
       "      <td>서울특별시 용산구</td>\n",
       "    </tr>\n",
       "    <tr>\n",
       "      <th>5</th>\n",
       "      <td>서울특별시</td>\n",
       "      <td>성동구</td>\n",
       "      <td>291534</td>\n",
       "      <td>142277</td>\n",
       "      <td>149257</td>\n",
       "      <td>서울특별시 성동구</td>\n",
       "    </tr>\n",
       "    <tr>\n",
       "      <th>6</th>\n",
       "      <td>서울특별시</td>\n",
       "      <td>광진구</td>\n",
       "      <td>343006</td>\n",
       "      <td>165555</td>\n",
       "      <td>177451</td>\n",
       "      <td>서울특별시 광진구</td>\n",
       "    </tr>\n",
       "  </tbody>\n",
       "</table>\n",
       "</div>"
      ],
      "text/plain": [
       "      시도   군구  총인구수 (명)  남자인구수 (명)  여자인구수 (명)       시도군구\n",
       "2  서울특별시  종로구    147113      71567      75546  서울특별시 종로구\n",
       "3  서울특별시   중구    124477      60787      63690   서울특별시 중구\n",
       "4  서울특별시  용산구    228755     110038     118717  서울특별시 용산구\n",
       "5  서울특별시  성동구    291534     142277     149257  서울특별시 성동구\n",
       "6  서울특별시  광진구    343006     165555     177451  서울특별시 광진구"
      ]
     },
     "execution_count": 33,
     "metadata": {},
     "output_type": "execute_result"
    }
   ],
   "source": [
    "population = population[population.군구 != '소계']\n",
    "\n",
    "population.head()  #작업 확인용 출력"
   ]
  },
  {
   "cell_type": "markdown",
   "metadata": {},
   "source": [
    "####   (3) 병합의 기준이 될 인덱스를 '시도군구'로 설정"
   ]
  },
  {
   "cell_type": "code",
   "execution_count": 34,
   "metadata": {},
   "outputs": [
    {
     "data": {
      "text/html": [
       "<div>\n",
       "<style scoped>\n",
       "    .dataframe tbody tr th:only-of-type {\n",
       "        vertical-align: middle;\n",
       "    }\n",
       "\n",
       "    .dataframe tbody tr th {\n",
       "        vertical-align: top;\n",
       "    }\n",
       "\n",
       "    .dataframe thead th {\n",
       "        text-align: right;\n",
       "    }\n",
       "</style>\n",
       "<table border=\"1\" class=\"dataframe\">\n",
       "  <thead>\n",
       "    <tr style=\"text-align: right;\">\n",
       "      <th></th>\n",
       "      <th>시도</th>\n",
       "      <th>군구</th>\n",
       "      <th>총인구수 (명)</th>\n",
       "      <th>남자인구수 (명)</th>\n",
       "      <th>여자인구수 (명)</th>\n",
       "    </tr>\n",
       "    <tr>\n",
       "      <th>시도군구</th>\n",
       "      <th></th>\n",
       "      <th></th>\n",
       "      <th></th>\n",
       "      <th></th>\n",
       "      <th></th>\n",
       "    </tr>\n",
       "  </thead>\n",
       "  <tbody>\n",
       "    <tr>\n",
       "      <th>서울특별시 종로구</th>\n",
       "      <td>서울특별시</td>\n",
       "      <td>종로구</td>\n",
       "      <td>147113</td>\n",
       "      <td>71567</td>\n",
       "      <td>75546</td>\n",
       "    </tr>\n",
       "    <tr>\n",
       "      <th>서울특별시 중구</th>\n",
       "      <td>서울특별시</td>\n",
       "      <td>중구</td>\n",
       "      <td>124477</td>\n",
       "      <td>60787</td>\n",
       "      <td>63690</td>\n",
       "    </tr>\n",
       "    <tr>\n",
       "      <th>서울특별시 용산구</th>\n",
       "      <td>서울특별시</td>\n",
       "      <td>용산구</td>\n",
       "      <td>228755</td>\n",
       "      <td>110038</td>\n",
       "      <td>118717</td>\n",
       "    </tr>\n",
       "    <tr>\n",
       "      <th>서울특별시 성동구</th>\n",
       "      <td>서울특별시</td>\n",
       "      <td>성동구</td>\n",
       "      <td>291534</td>\n",
       "      <td>142277</td>\n",
       "      <td>149257</td>\n",
       "    </tr>\n",
       "    <tr>\n",
       "      <th>서울특별시 광진구</th>\n",
       "      <td>서울특별시</td>\n",
       "      <td>광진구</td>\n",
       "      <td>343006</td>\n",
       "      <td>165555</td>\n",
       "      <td>177451</td>\n",
       "    </tr>\n",
       "  </tbody>\n",
       "</table>\n",
       "</div>"
      ],
      "text/plain": [
       "              시도   군구  총인구수 (명)  남자인구수 (명)  여자인구수 (명)\n",
       "시도군구                                                 \n",
       "서울특별시 종로구  서울특별시  종로구    147113      71567      75546\n",
       "서울특별시 중구   서울특별시   중구    124477      60787      63690\n",
       "서울특별시 용산구  서울특별시  용산구    228755     110038     118717\n",
       "서울특별시 성동구  서울특별시  성동구    291534     142277     149257\n",
       "서울특별시 광진구  서울특별시  광진구    343006     165555     177451"
      ]
     },
     "execution_count": 34,
     "metadata": {},
     "output_type": "execute_result"
    }
   ],
   "source": [
    "population = population.set_index(\"시도군구\")\n",
    "\n",
    "population.head()  #작업 확인용 출력"
   ]
  },
  {
   "cell_type": "markdown",
   "metadata": {},
   "source": [
    "## 5) '의료기관' 데이터프레임과 '시도군구별 인구수' 데이터프레임 병합하기 "
   ]
  },
  {
   "cell_type": "code",
   "execution_count": 35,
   "metadata": {
    "scrolled": true
   },
   "outputs": [
    {
     "data": {
      "text/html": [
       "<div>\n",
       "<style scoped>\n",
       "    .dataframe tbody tr th:only-of-type {\n",
       "        vertical-align: middle;\n",
       "    }\n",
       "\n",
       "    .dataframe tbody tr th {\n",
       "        vertical-align: top;\n",
       "    }\n",
       "\n",
       "    .dataframe thead th {\n",
       "        text-align: right;\n",
       "    }\n",
       "</style>\n",
       "<table border=\"1\" class=\"dataframe\">\n",
       "  <thead>\n",
       "    <tr style=\"text-align: right;\">\n",
       "      <th></th>\n",
       "      <th>시도_x</th>\n",
       "      <th>군구_x</th>\n",
       "      <th>count</th>\n",
       "      <th>시도_y</th>\n",
       "      <th>군구_y</th>\n",
       "      <th>총인구수 (명)</th>\n",
       "      <th>남자인구수 (명)</th>\n",
       "      <th>여자인구수 (명)</th>\n",
       "    </tr>\n",
       "    <tr>\n",
       "      <th>시도군구</th>\n",
       "      <th></th>\n",
       "      <th></th>\n",
       "      <th></th>\n",
       "      <th></th>\n",
       "      <th></th>\n",
       "      <th></th>\n",
       "      <th></th>\n",
       "      <th></th>\n",
       "    </tr>\n",
       "  </thead>\n",
       "  <tbody>\n",
       "    <tr>\n",
       "      <th>강원도 강릉시</th>\n",
       "      <td>강원도</td>\n",
       "      <td>강릉시</td>\n",
       "      <td>4</td>\n",
       "      <td>강원도</td>\n",
       "      <td>강릉시</td>\n",
       "      <td>212890</td>\n",
       "      <td>105527</td>\n",
       "      <td>107363</td>\n",
       "    </tr>\n",
       "    <tr>\n",
       "      <th>강원도 동해시</th>\n",
       "      <td>강원도</td>\n",
       "      <td>동해시</td>\n",
       "      <td>1</td>\n",
       "      <td>강원도</td>\n",
       "      <td>동해시</td>\n",
       "      <td>89868</td>\n",
       "      <td>45622</td>\n",
       "      <td>44246</td>\n",
       "    </tr>\n",
       "    <tr>\n",
       "      <th>강원도 삼척시</th>\n",
       "      <td>강원도</td>\n",
       "      <td>삼척시</td>\n",
       "      <td>1</td>\n",
       "      <td>강원도</td>\n",
       "      <td>삼척시</td>\n",
       "      <td>64355</td>\n",
       "      <td>32532</td>\n",
       "      <td>31823</td>\n",
       "    </tr>\n",
       "    <tr>\n",
       "      <th>강원도 속초시</th>\n",
       "      <td>강원도</td>\n",
       "      <td>속초시</td>\n",
       "      <td>1</td>\n",
       "      <td>강원도</td>\n",
       "      <td>속초시</td>\n",
       "      <td>82302</td>\n",
       "      <td>40771</td>\n",
       "      <td>41531</td>\n",
       "    </tr>\n",
       "    <tr>\n",
       "      <th>강원도 양구군</th>\n",
       "      <td>강원도</td>\n",
       "      <td>양구군</td>\n",
       "      <td>1</td>\n",
       "      <td>강원도</td>\n",
       "      <td>양구군</td>\n",
       "      <td>22114</td>\n",
       "      <td>11701</td>\n",
       "      <td>10413</td>\n",
       "    </tr>\n",
       "  </tbody>\n",
       "</table>\n",
       "</div>"
      ],
      "text/plain": [
       "        시도_x 군구_x  count 시도_y 군구_y  총인구수 (명)  남자인구수 (명)  여자인구수 (명)\n",
       "시도군구                                                              \n",
       "강원도 강릉시  강원도  강릉시      4  강원도  강릉시    212890     105527     107363\n",
       "강원도 동해시  강원도  동해시      1  강원도  동해시     89868      45622      44246\n",
       "강원도 삼척시  강원도  삼척시      1  강원도  삼척시     64355      32532      31823\n",
       "강원도 속초시  강원도  속초시      1  강원도  속초시     82302      40771      41531\n",
       "강원도 양구군  강원도  양구군      1  강원도  양구군     22114      11701      10413"
      ]
     },
     "execution_count": 35,
     "metadata": {},
     "output_type": "execute_result"
    }
   ],
   "source": [
    "addr_population_merge = pd.merge(addr_group,population,  how='inner',  left_index=True, right_index=True)\n",
    "\n",
    "addr_population_merge.head()   #작업 확인용 출력"
   ]
  },
  {
   "cell_type": "markdown",
   "metadata": {},
   "source": [
    "##### -필요한 컬럼만 추출하기"
   ]
  },
  {
   "cell_type": "code",
   "execution_count": 36,
   "metadata": {},
   "outputs": [
    {
     "data": {
      "text/html": [
       "<div>\n",
       "<style scoped>\n",
       "    .dataframe tbody tr th:only-of-type {\n",
       "        vertical-align: middle;\n",
       "    }\n",
       "\n",
       "    .dataframe tbody tr th {\n",
       "        vertical-align: top;\n",
       "    }\n",
       "\n",
       "    .dataframe thead th {\n",
       "        text-align: right;\n",
       "    }\n",
       "</style>\n",
       "<table border=\"1\" class=\"dataframe\">\n",
       "  <thead>\n",
       "    <tr style=\"text-align: right;\">\n",
       "      <th></th>\n",
       "      <th>시도_x</th>\n",
       "      <th>군구_x</th>\n",
       "      <th>count</th>\n",
       "      <th>총인구수 (명)</th>\n",
       "    </tr>\n",
       "    <tr>\n",
       "      <th>시도군구</th>\n",
       "      <th></th>\n",
       "      <th></th>\n",
       "      <th></th>\n",
       "      <th></th>\n",
       "    </tr>\n",
       "  </thead>\n",
       "  <tbody>\n",
       "    <tr>\n",
       "      <th>강원도 강릉시</th>\n",
       "      <td>강원도</td>\n",
       "      <td>강릉시</td>\n",
       "      <td>4</td>\n",
       "      <td>212890</td>\n",
       "    </tr>\n",
       "    <tr>\n",
       "      <th>강원도 동해시</th>\n",
       "      <td>강원도</td>\n",
       "      <td>동해시</td>\n",
       "      <td>1</td>\n",
       "      <td>89868</td>\n",
       "    </tr>\n",
       "    <tr>\n",
       "      <th>강원도 삼척시</th>\n",
       "      <td>강원도</td>\n",
       "      <td>삼척시</td>\n",
       "      <td>1</td>\n",
       "      <td>64355</td>\n",
       "    </tr>\n",
       "    <tr>\n",
       "      <th>강원도 속초시</th>\n",
       "      <td>강원도</td>\n",
       "      <td>속초시</td>\n",
       "      <td>1</td>\n",
       "      <td>82302</td>\n",
       "    </tr>\n",
       "    <tr>\n",
       "      <th>강원도 양구군</th>\n",
       "      <td>강원도</td>\n",
       "      <td>양구군</td>\n",
       "      <td>1</td>\n",
       "      <td>22114</td>\n",
       "    </tr>\n",
       "  </tbody>\n",
       "</table>\n",
       "</div>"
      ],
      "text/plain": [
       "        시도_x 군구_x  count  총인구수 (명)\n",
       "시도군구                              \n",
       "강원도 강릉시  강원도  강릉시      4    212890\n",
       "강원도 동해시  강원도  동해시      1     89868\n",
       "강원도 삼척시  강원도  삼척시      1     64355\n",
       "강원도 속초시  강원도  속초시      1     82302\n",
       "강원도 양구군  강원도  양구군      1     22114"
      ]
     },
     "execution_count": 36,
     "metadata": {},
     "output_type": "execute_result"
    }
   ],
   "source": [
    "local_MC_Population = addr_population_merge[['시도_x', '군구_x',  'count', '총인구수 (명)']]\n",
    "\n",
    "local_MC_Population.head()   #작업 확인용 출력  "
   ]
  },
  {
   "cell_type": "code",
   "execution_count": 37,
   "metadata": {},
   "outputs": [
    {
     "data": {
      "text/html": [
       "<div>\n",
       "<style scoped>\n",
       "    .dataframe tbody tr th:only-of-type {\n",
       "        vertical-align: middle;\n",
       "    }\n",
       "\n",
       "    .dataframe tbody tr th {\n",
       "        vertical-align: top;\n",
       "    }\n",
       "\n",
       "    .dataframe thead th {\n",
       "        text-align: right;\n",
       "    }\n",
       "</style>\n",
       "<table border=\"1\" class=\"dataframe\">\n",
       "  <thead>\n",
       "    <tr style=\"text-align: right;\">\n",
       "      <th></th>\n",
       "      <th>시도</th>\n",
       "      <th>군구</th>\n",
       "      <th>count</th>\n",
       "      <th>인구수</th>\n",
       "    </tr>\n",
       "    <tr>\n",
       "      <th>시도군구</th>\n",
       "      <th></th>\n",
       "      <th></th>\n",
       "      <th></th>\n",
       "      <th></th>\n",
       "    </tr>\n",
       "  </thead>\n",
       "  <tbody>\n",
       "    <tr>\n",
       "      <th>강원도 강릉시</th>\n",
       "      <td>강원도</td>\n",
       "      <td>강릉시</td>\n",
       "      <td>4</td>\n",
       "      <td>212890</td>\n",
       "    </tr>\n",
       "    <tr>\n",
       "      <th>강원도 동해시</th>\n",
       "      <td>강원도</td>\n",
       "      <td>동해시</td>\n",
       "      <td>1</td>\n",
       "      <td>89868</td>\n",
       "    </tr>\n",
       "    <tr>\n",
       "      <th>강원도 삼척시</th>\n",
       "      <td>강원도</td>\n",
       "      <td>삼척시</td>\n",
       "      <td>1</td>\n",
       "      <td>64355</td>\n",
       "    </tr>\n",
       "    <tr>\n",
       "      <th>강원도 속초시</th>\n",
       "      <td>강원도</td>\n",
       "      <td>속초시</td>\n",
       "      <td>1</td>\n",
       "      <td>82302</td>\n",
       "    </tr>\n",
       "    <tr>\n",
       "      <th>강원도 양구군</th>\n",
       "      <td>강원도</td>\n",
       "      <td>양구군</td>\n",
       "      <td>1</td>\n",
       "      <td>22114</td>\n",
       "    </tr>\n",
       "  </tbody>\n",
       "</table>\n",
       "</div>"
      ],
      "text/plain": [
       "          시도   군구  count     인구수\n",
       "시도군구                            \n",
       "강원도 강릉시  강원도  강릉시      4  212890\n",
       "강원도 동해시  강원도  동해시      1   89868\n",
       "강원도 삼척시  강원도  삼척시      1   64355\n",
       "강원도 속초시  강원도  속초시      1   82302\n",
       "강원도 양구군  강원도  양구군      1   22114"
      ]
     },
     "execution_count": 37,
     "metadata": {},
     "output_type": "execute_result"
    }
   ],
   "source": [
    " #컬럼이름 변경\n",
    "local_MC_Population = local_MC_Population.rename(columns = {'시도_x': '시도', '군구_x': '군구','총인구수 (명)': '인구수' })\n",
    "\n",
    "local_MC_Population.head()  #작업 확인용 출력"
   ]
  },
  {
   "cell_type": "markdown",
   "metadata": {},
   "source": [
    "## 6) 시도군구의 인구대비 의료기관수 비율 구하기"
   ]
  },
  {
   "cell_type": "code",
   "execution_count": 38,
   "metadata": {},
   "outputs": [
    {
     "data": {
      "text/html": [
       "<div>\n",
       "<style scoped>\n",
       "    .dataframe tbody tr th:only-of-type {\n",
       "        vertical-align: middle;\n",
       "    }\n",
       "\n",
       "    .dataframe tbody tr th {\n",
       "        vertical-align: top;\n",
       "    }\n",
       "\n",
       "    .dataframe thead th {\n",
       "        text-align: right;\n",
       "    }\n",
       "</style>\n",
       "<table border=\"1\" class=\"dataframe\">\n",
       "  <thead>\n",
       "    <tr style=\"text-align: right;\">\n",
       "      <th></th>\n",
       "      <th>시도</th>\n",
       "      <th>군구</th>\n",
       "      <th>count</th>\n",
       "      <th>인구수</th>\n",
       "      <th>MC_ratio</th>\n",
       "    </tr>\n",
       "    <tr>\n",
       "      <th>시도군구</th>\n",
       "      <th></th>\n",
       "      <th></th>\n",
       "      <th></th>\n",
       "      <th></th>\n",
       "      <th></th>\n",
       "    </tr>\n",
       "  </thead>\n",
       "  <tbody>\n",
       "    <tr>\n",
       "      <th>강원도 강릉시</th>\n",
       "      <td>강원도</td>\n",
       "      <td>강릉시</td>\n",
       "      <td>4</td>\n",
       "      <td>212890</td>\n",
       "      <td>1.878905</td>\n",
       "    </tr>\n",
       "    <tr>\n",
       "      <th>강원도 동해시</th>\n",
       "      <td>강원도</td>\n",
       "      <td>동해시</td>\n",
       "      <td>1</td>\n",
       "      <td>89868</td>\n",
       "      <td>1.112743</td>\n",
       "    </tr>\n",
       "    <tr>\n",
       "      <th>강원도 삼척시</th>\n",
       "      <td>강원도</td>\n",
       "      <td>삼척시</td>\n",
       "      <td>1</td>\n",
       "      <td>64355</td>\n",
       "      <td>1.553881</td>\n",
       "    </tr>\n",
       "    <tr>\n",
       "      <th>강원도 속초시</th>\n",
       "      <td>강원도</td>\n",
       "      <td>속초시</td>\n",
       "      <td>1</td>\n",
       "      <td>82302</td>\n",
       "      <td>1.215037</td>\n",
       "    </tr>\n",
       "    <tr>\n",
       "      <th>강원도 양구군</th>\n",
       "      <td>강원도</td>\n",
       "      <td>양구군</td>\n",
       "      <td>1</td>\n",
       "      <td>22114</td>\n",
       "      <td>4.522022</td>\n",
       "    </tr>\n",
       "  </tbody>\n",
       "</table>\n",
       "</div>"
      ],
      "text/plain": [
       "          시도   군구  count     인구수  MC_ratio\n",
       "시도군구                                      \n",
       "강원도 강릉시  강원도  강릉시      4  212890  1.878905\n",
       "강원도 동해시  강원도  동해시      1   89868  1.112743\n",
       "강원도 삼척시  강원도  삼척시      1   64355  1.553881\n",
       "강원도 속초시  강원도  속초시      1   82302  1.215037\n",
       "강원도 양구군  강원도  양구군      1   22114  4.522022"
      ]
     },
     "execution_count": 38,
     "metadata": {},
     "output_type": "execute_result"
    }
   ],
   "source": [
    "MC_count = local_MC_Population['count']\n",
    "local_MC_Population['MC_ratio'] = MC_count.div(local_MC_Population['인구수'], axis=0)*100000\n",
    "\n",
    "local_MC_Population.head()   #작업 확인용 출력"
   ]
  },
  {
   "cell_type": "markdown",
   "metadata": {},
   "source": [
    "# 2. 분석 모델 구축 및 시각화"
   ]
  },
  {
   "cell_type": "markdown",
   "metadata": {},
   "source": [
    "##  1) 바 차트 그리기"
   ]
  },
  {
   "cell_type": "code",
   "execution_count": 39,
   "metadata": {},
   "outputs": [],
   "source": [
    "from matplotlib import pyplot as plt\n",
    "from matplotlib import rcParams, style\n",
    "style.use('ggplot')\n",
    "\n",
    "from matplotlib import font_manager, rc\n",
    "font_name = font_manager.FontProperties(fname=\"c:/Windows/Fonts/malgun.ttf\").get_name()\n",
    "rc('font', family=font_name)"
   ]
  },
  {
   "cell_type": "markdown",
   "metadata": {},
   "source": [
    "####   (1) 행정구역별 공공보건의료기관수에 대한 바 차트 "
   ]
  },
  {
   "cell_type": "code",
   "execution_count": 40,
   "metadata": {},
   "outputs": [
    {
     "data": {
      "image/png": "[encoded data removed]",
      "text/plain": [
       "<Figure size 1800x360 with 1 Axes>"
      ]
     },
     "metadata": {},
     "output_type": "display_data"
    }
   ],
   "source": [
    "MC_ratio = local_MC_Population[['count']]\n",
    "MC_ratio = MC_ratio.sort_values('count', ascending = False)\n",
    "plt.rcParams[\"figure.figsize\"] = (25,5)\n",
    "MC_ratio.plot(kind='bar', rot=90)\n",
    "plt.show()"
   ]
  },
  {
   "cell_type": "markdown",
   "metadata": {},
   "source": [
    "####   (2) 행정구역별 인구수 대비 공공보건의료기관 비율에 대한 바 차트 "
   ]
  },
  {
   "cell_type": "code",
   "execution_count": 41,
   "metadata": {
    "scrolled": true
   },
   "outputs": [
    {
     "data": {
      "image/png": "[encoded data removed]",
      "text/plain": [
       "<Figure size 1800x360 with 1 Axes>"
      ]
     },
     "metadata": {},
     "output_type": "display_data"
    }
   ],
   "source": [
    "MC_ratio = local_MC_Population[['MC_ratio']]\n",
    "MC_ratio = MC_ratio.sort_values('MC_ratio', ascending = False)\n",
    "plt.rcParams[\"figure.figsize\"] = (25,5)\n",
    "MC_ratio.plot(kind='bar', rot=90)\n",
    "plt.show()"
   ]
  }
 ],
 "metadata": {
  "kernelspec": {
   "display_name": "Python 3",
   "language": "python",
   "name": "python3"
  },
  "language_info": {
   "codemirror_mode": {
    "name": "ipython",
    "version": 3
   },
   "file_extension": ".py",
   "mimetype": "text/x-python",
   "name": "python",
   "nbconvert_exporter": "python",
   "pygments_lexer": "ipython3",
   "version": "3.8.5"
  }
 },
 "nbformat": 4,
 "nbformat_minor": 2
}
